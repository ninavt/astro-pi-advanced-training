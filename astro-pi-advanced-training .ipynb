{
 "cells": [
  {
   "cell_type": "markdown",
   "id": "dcd74d4f",
   "metadata": {},
   "source": [
    "# Part 2: During the training\n",
    "During the training your asked to copy and paste the following code blocks into your script. "
   ]
  },
  {
   "cell_type": "markdown",
   "id": "03b86959",
   "metadata": {},
   "source": [
    "## Block A: Use EXIF data to find a time difference\n"
   ]
  },
  {
   "cell_type": "code",
   "execution_count": null,
   "id": "91afce24",
   "metadata": {},
   "outputs": [],
   "source": [
    "from exif import Image\n",
    "from datetime import datetime\n",
    "\n",
    "image_1 = 'photo_0683.jpg'\n",
    "image_2 = 'photo_0684.jpg'"
   ]
  },
  {
   "cell_type": "code",
   "execution_count": null,
   "id": "f529c401",
   "metadata": {},
   "outputs": [],
   "source": [
    "# function to extract the timestring from a photo and convert it to a datetime object\n",
    "def get_time(image):\n",
    "    with open(image, 'rb') as image_file:\n",
    "        img = Image(image_file)\n",
    "        \n",
    "        time_str = img.get(\"datetime_original\")\n",
    "        time = datetime.strptime(time_str, '%Y:%m:%d %H:%M:%S')\n",
    "        \n",
    "        # this shows all the EXIF data you can extract from a photo\n",
    "        for data in img.list_all():\n",
    "            print(data)\n",
    "            \n",
    "    return time\n",
    "\n",
    "print(get_time('photo_0683.jpg'))"
   ]
  },
  {
   "cell_type": "code",
   "execution_count": null,
   "id": "44c16daa",
   "metadata": {},
   "outputs": [],
   "source": [
    "# function to calculate the time difference between two photo's\n",
    "def get_time_difference(image_1, image_2):\n",
    "    time_1 = get_time(image_1)\n",
    "    time_2 = get_time(image_2)\n",
    "    time_difference = time_2 - time_1\n",
    "    \n",
    "    return time_difference\n",
    "\n",
    "print(get_time_difference(image_1,image_2))"
   ]
  },
  {
   "cell_type": "markdown",
   "id": "6b6a6e49",
   "metadata": {},
   "source": [
    "## Block B: Find matching features"
   ]
  },
  {
   "cell_type": "code",
   "execution_count": null,
   "id": "62bba032",
   "metadata": {},
   "outputs": [],
   "source": [
    "import cv2\n",
    "import math"
   ]
  },
  {
   "cell_type": "code",
   "execution_count": null,
   "id": "2e80d7e6",
   "metadata": {},
   "outputs": [],
   "source": [
    "# convert the images to OpenCV objects so they can be processed\n",
    "def convert_to_cv(image_1, image_2):\n",
    "    image_1_cv = cv2.imread(image_1, 0)\n",
    "    image_2_cv = cv2.imread(image_2, 0)\n",
    "    return image_1_cv, image_2_cv"
   ]
  },
  {
   "cell_type": "code",
   "execution_count": null,
   "id": "201cb5b8",
   "metadata": {},
   "outputs": [],
   "source": [
    "# using the ORB algorithm to extract keypoints and descriptors in a photo\n",
    "def calculate_features(image_1_cv, image_2_cv, feature_number):\n",
    "    orb = cv2.ORB_create(nfeatures = feature_number)\n",
    "    keypoints_1, descriptors_1 = orb.detectAndCompute(image_1_cv, None)\n",
    "    keypoints_2, descriptors_2 = orb.detectAndCompute(image_2_cv, None)\n",
    "    return keypoints_1, keypoints_2, descriptors_1, descriptors_2"
   ]
  },
  {
   "cell_type": "code",
   "execution_count": null,
   "id": "38b09cc0",
   "metadata": {},
   "outputs": [],
   "source": [
    "# comparing the descriptors to find matching keypoints using a Brute Force algorithm\n",
    "def calculate_matches(descriptors_1, descriptors_2):\n",
    "    brute_force = cv2.BFMatcher(cv2.NORM_HAMMING, crossCheck=True)\n",
    "    matches = brute_force.match(descriptors_1, descriptors_2)\n",
    "    matches = sorted(matches, key=lambda x: x.distance)\n",
    "    return matches"
   ]
  },
  {
   "cell_type": "code",
   "execution_count": null,
   "id": "cd8febf4",
   "metadata": {},
   "outputs": [],
   "source": [
    "# calling all functions\n",
    "time_difference = get_time_difference(image_1, image_2) # Get time difference between images\n",
    "image_1_cv, image_2_cv = convert_to_cv(image_1, image_2) # Create OpenCV image objects\n",
    "keypoints_1, keypoints_2, descriptors_1, descriptors_2 = calculate_features(image_1_cv, image_2_cv, 1000) # Get keypoints and descriptors\n",
    "matches = calculate_matches(descriptors_1, descriptors_2) # Match descriptors\n",
    "\n",
    "print(matches)"
   ]
  },
  {
   "cell_type": "markdown",
   "id": "ff8345e3",
   "metadata": {},
   "source": [
    "# Block C: Display matches"
   ]
  },
  {
   "cell_type": "code",
   "execution_count": null,
   "id": "65523a35",
   "metadata": {},
   "outputs": [],
   "source": [
    "# function to display matches in an image, you can insert how many matches you want to display\n",
    "def display_matches(image_1_cv, keypoints_1, image_2_cv, keypoints_2, matches):\n",
    "    match_img = cv2.drawMatches(image_1_cv, keypoints_1, image_2_cv, keypoints_2, matches[:100], None)\n",
    "    resize = cv2.resize(match_img, (1600,600), interpolation = cv2.INTER_AREA)\n",
    "    cv2.imshow('matches', resize)\n",
    "    cv2.waitKey(0)\n",
    "    cv2.destroyWindow('matches')"
   ]
  },
  {
   "cell_type": "code",
   "execution_count": null,
   "id": "b77f95fe",
   "metadata": {},
   "outputs": [],
   "source": [
    "display_matches(image_1_cv, keypoints_1, image_2_cv, keypoints_2, matches) # Display matches"
   ]
  },
  {
   "cell_type": "markdown",
   "id": "761f1685",
   "metadata": {},
   "source": [
    "# Block D: Find matching coordinates"
   ]
  },
  {
   "cell_type": "code",
   "execution_count": null,
   "id": "43f9ef9b",
   "metadata": {},
   "outputs": [],
   "source": [
    "# function to extract coordinates from matching keypoints\n",
    "def find_matching_coordinates(keypoints_1, keypoints_2, matches):\n",
    "    coordinates_1 = []\n",
    "    coordinates_2 = []\n",
    "    for match in matches:\n",
    "        image_1_idx = match.queryIdx\n",
    "        image_2_idx = match.trainIdx\n",
    "        (x1,y1) = keypoints_1[image_1_idx].pt\n",
    "        (x2,y2) = keypoints_2[image_2_idx].pt\n",
    "        coordinates_1.append((x1,y1))\n",
    "        coordinates_2.append((x2,y2))\n",
    "    return coordinates_1, coordinates_2"
   ]
  },
  {
   "cell_type": "code",
   "execution_count": null,
   "id": "294b9d93",
   "metadata": {},
   "outputs": [],
   "source": [
    "coordinates_1, coordinates_2 = find_matching_coordinates(keypoints_1, keypoints_2, matches)\n",
    "\n",
    "print(coordinates_1[0], coordinates_2[0])"
   ]
  },
  {
   "cell_type": "markdown",
   "id": "7edce2d9",
   "metadata": {},
   "source": [
    "# Block E: Calculate feature distance"
   ]
  },
  {
   "cell_type": "code",
   "execution_count": null,
   "id": "2f8ace1a",
   "metadata": {},
   "outputs": [],
   "source": [
    "# calculate distance between matching keypoints with Pythagoras\n",
    "def calculate_mean_distance(coordinates_1, coordinates_2):\n",
    "    all_distances = 0\n",
    "    merged_coordinates = list(zip(coordinates_1, coordinates_2))\n",
    "    for coordinate in merged_coordinates:\n",
    "        x_difference = coordinate[0][0] - coordinate[1][0]\n",
    "        y_difference = coordinate[0][1] - coordinate[1][1]\n",
    "        distance = math.hypot(x_difference, y_difference)\n",
    "        all_distances = all_distances + distance\n",
    "    return all_distances / len(merged_coordinates)"
   ]
  },
  {
   "cell_type": "code",
   "execution_count": null,
   "id": "4e3c4758",
   "metadata": {},
   "outputs": [],
   "source": [
    "average_feature_distance = calculate_mean_distance(coordinates_1, coordinates_2)\n",
    "\n",
    "print(average_feature_distance)"
   ]
  },
  {
   "cell_type": "markdown",
   "id": "94fd7532",
   "metadata": {},
   "source": [
    "# Block F: Calculate average speed"
   ]
  },
  {
   "cell_type": "code",
   "execution_count": null,
   "id": "957867c0",
   "metadata": {},
   "outputs": [],
   "source": [
    "# function to convert pixel distance to distance with GSD and calculating the speed in km/s\n",
    "def calculate_speed_in_kmps(feature_distance, GSD, time_difference):\n",
    "    distance = feature_distance * GSD / 100000 # convert pixels to distance in km\n",
    "    speed = distance / time_difference\n",
    "    return speed"
   ]
  },
  {
   "cell_type": "code",
   "execution_count": null,
   "id": "718b46bc",
   "metadata": {},
   "outputs": [],
   "source": [
    "GSD = 12648 # for a resolution of 4056 x 3040, recalculate GSD for different resolutions\n",
    "speed = calculate_speed_in_kmps(average_feature_distance, 12648, time_difference)\n",
    "speed_formatted = \"{:.5f}\".format(speed)\n",
    "\n",
    "print(speed_formatted)"
   ]
  },
  {
   "cell_type": "markdown",
   "id": "50bf4971",
   "metadata": {},
   "source": [
    "# Block G: Test with astro-pi-replay and write results file"
   ]
  },
  {
   "cell_type": "code",
   "execution_count": null,
   "id": "f9f1b658",
   "metadata": {},
   "outputs": [],
   "source": [
    "# Import the PiCamera class from the picamera module\n",
    "from picamera import PiCamera\n",
    "\n",
    "# Create an instance of the PiCamera class\n",
    "cam = PiCamera()\n",
    "\n",
    "# Set the resolution of the camera to 4056×3040 pixels\n",
    "cam.resolution = (4056, 3040)\n",
    "\n",
    "# Capture two images\n",
    "cam.capture(\"image1.jpg\")\n",
    "cam.capture(\"image2.jpg\")"
   ]
  },
  {
   "cell_type": "code",
   "execution_count": null,
   "id": "035c1c22",
   "metadata": {},
   "outputs": [],
   "source": [
    "with open('result.txt', 'w') as file:\n",
    "    file.write(speed_formatted)\n",
    "    \n",
    "print(\"Data written to result.txt\")"
   ]
  }
 ],
 "metadata": {
  "celltoolbar": "Attachments",
  "kernelspec": {
   "display_name": "Python 3 (ipykernel)",
   "language": "python",
   "name": "python3"
  },
  "language_info": {
   "codemirror_mode": {
    "name": "ipython",
    "version": 3
   },
   "file_extension": ".py",
   "mimetype": "text/x-python",
   "name": "python",
   "nbconvert_exporter": "python",
   "pygments_lexer": "ipython3",
   "version": "3.9.13"
  }
 },
 "nbformat": 4,
 "nbformat_minor": 5
}
