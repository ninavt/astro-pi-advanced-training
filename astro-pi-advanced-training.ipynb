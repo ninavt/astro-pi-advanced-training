{
 "cells": [
  {
   "cell_type": "markdown",
   "id": "5a70dbc7",
   "metadata": {},
   "source": [
    "# Part 1: Before the training\n",
    "\n",
    "<ol>\n",
    "    <li>Download historic photo's: <a href=\"https://rpf.io/p/en/astropi-iss-speed-go\">https://rpf.io/p/en/astropi-iss-speed-go</a>.</li>\n",
    "    <li>Install Thonny: <a href=\"https://thonny.org/\">https://thonny.org/</a>.</li>\n",
    "    <li>Install plugin 1: Open Thonny, Click on <b>Tools > Manage plug-ins…</b>, and search for <b>thonny-astro-pi-replay</b> and click install.</li>\n",
    "    <li>Install plugin 2: Repeat above and search for <b>astro-pi-replay</b> and click install.</li>\n",
    "    <li>You need to restart Thonny to make the plugin installation complete.\n",
    "    <li>Look if the Astro Pi Replay tool appears when you hover over <b>Run</b>.<br>\n",
    "<img src=\"run-button.png\">\n",
    "        \n",
    "    <li>Test if the Astro Pi Replay tool works by running the following code and running it by hovering over <b>Run</b> clicking on <b>Astro-Pi-Replay</b></li>\n",
    "</ol>"
   ]
  },
  {
   "cell_type": "code",
   "execution_count": null,
   "id": "5af7f5f1",
   "metadata": {},
   "outputs": [],
   "source": [
    "print(\"Hello world\")"
   ]
  },
  {
   "cell_type": "markdown",
   "id": "ecf7a5f8",
   "metadata": {},
   "source": [
    "This should produce the following output\n",
    "\n",
    "<img src=\"output-hello-world.jpg\">"
   ]
  },
  {
   "cell_type": "markdown",
   "id": "dcd74d4f",
   "metadata": {},
   "source": [
    "# Part 2: During the training\n",
    "During the training your asked to copy and paste the following code blocks into your script. "
   ]
  },
  {
   "cell_type": "markdown",
   "id": "03b86959",
   "metadata": {},
   "source": [
    "## Block A: Use EXIF data to find a time difference\n"
   ]
  },
  {
   "cell_type": "code",
   "execution_count": null,
   "id": "91afce24",
   "metadata": {},
   "outputs": [],
   "source": [
    "from exif import Image\n",
    "from datetime import datetime\n",
    "\n",
    "image_1 = 'photo_0683.jpg'\n",
    "image_2 = 'photo_0684.jpg'"
   ]
  },
  {
   "cell_type": "code",
   "execution_count": null,
   "id": "f529c401",
   "metadata": {},
   "outputs": [],
   "source": [
    "def get_time(image):\n",
    "    with open(image, 'rb') as image_file:\n",
    "        img = Image(image_file)\n",
    "        \n",
    "        time_str = img.get(\"datetime_original\")\n",
    "        time = datetime.strptime(time_str, '%Y:%m:%d %H:%M:%S')\n",
    "        \n",
    "        for data in img.list_all():\n",
    "            print(data)\n",
    "            \n",
    "    return time\n",
    "\n",
    "print(get_time('photo_0683.jpg'))"
   ]
  },
  {
   "cell_type": "code",
   "execution_count": null,
   "id": "44c16daa",
   "metadata": {},
   "outputs": [],
   "source": [
    "def get_time_difference(image_1, image_2):\n",
    "    time_1 = get_time(image_1)\n",
    "    time_2 = get_time(image_2)\n",
    "    time_difference = time_2 - time_1\n",
    "    \n",
    "    return time_difference\n",
    "\n",
    "print(get_time_difference(image_1,image_2))"
   ]
  },
  {
   "cell_type": "markdown",
   "id": "6b6a6e49",
   "metadata": {},
   "source": [
    "## Block B: Find matching features"
   ]
  },
  {
   "cell_type": "code",
   "execution_count": null,
   "id": "62bba032",
   "metadata": {},
   "outputs": [],
   "source": []
  }
 ],
 "metadata": {
  "celltoolbar": "Attachments",
  "kernelspec": {
   "display_name": "Python 3 (ipykernel)",
   "language": "python",
   "name": "python3"
  },
  "language_info": {
   "codemirror_mode": {
    "name": "ipython",
    "version": 3
   },
   "file_extension": ".py",
   "mimetype": "text/x-python",
   "name": "python",
   "nbconvert_exporter": "python",
   "pygments_lexer": "ipython3",
   "version": "3.9.13"
  }
 },
 "nbformat": 4,
 "nbformat_minor": 5
}
